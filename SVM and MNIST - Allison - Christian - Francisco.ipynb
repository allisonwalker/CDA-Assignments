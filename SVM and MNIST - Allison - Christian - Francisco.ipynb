{
 "cells": [
  {
   "cell_type": "markdown",
   "metadata": {},
   "source": [
    "## SVM for hand-written digit recognition\n",
    "\n",
    "As an example of support vector machines in action, let's take a look at the hand-written digit recognition problem. We will use the MNIST dataset, which consists of several thousand gray scale images of hand-written digits. You can load directly the dataset with sklearn."
   ]
  },
  {
   "cell_type": "markdown",
   "metadata": {},
   "source": [
    "In this exercise you should:\n",
    "\n",
    " - Visualize and present the dataset\n",
    " - Apply the SVC to perform multi-class classification\n",
    " - Comment on the usage of the different kernels and the effect of the hyper-parameters\n",
    " - Visualize the results with a confusion matrix\n",
    " - Create a grid with different test examples showing the predicted and the true label\n",
    " - Compute the accuracy score and comment on the results\n",
    " - Perform any other experiments that you can think of, always reason about the results!"
   ]
  },
  {
   "cell_type": "code",
   "execution_count": 1,
   "metadata": {},
   "outputs": [],
   "source": [
    "from sklearn.datasets import load_digits\n",
    "mnist = load_digits(n_class=10)"
   ]
  },
  {
   "cell_type": "code",
   "execution_count": 2,
   "metadata": {},
   "outputs": [],
   "source": [
    "import pandas as pd\n",
    "import numpy as np\n",
    "import sklearn\n",
    "\n",
    "import matplotlib.pyplot as plt\n",
    "import seaborn as sns\n",
    "\n",
    "%matplotlib inline"
   ]
  },
  {
   "cell_type": "code",
   "execution_count": 3,
   "metadata": {},
   "outputs": [],
   "source": [
    "import warnings\n",
    "warnings.filterwarnings('ignore')"
   ]
  },
  {
   "cell_type": "markdown",
   "metadata": {},
   "source": [
    "### After downloading the dataset, print the general description of the dataset. Then print the target names and the shape of the images."
   ]
  },
  {
   "cell_type": "code",
   "execution_count": 4,
   "metadata": {},
   "outputs": [
    {
     "name": "stdout",
     "output_type": "stream",
     "text": [
      ".. _digits_dataset:\n",
      "\n",
      "Optical recognition of handwritten digits dataset\n",
      "--------------------------------------------------\n",
      "\n",
      "**Data Set Characteristics:**\n",
      "\n",
      "    :Number of Instances: 5620\n",
      "    :Number of Attributes: 64\n",
      "    :Attribute Information: 8x8 image of integer pixels in the range 0..16.\n",
      "    :Missing Attribute Values: None\n",
      "    :Creator: E. Alpaydin (alpaydin '@' boun.edu.tr)\n",
      "    :Date: July; 1998\n",
      "\n",
      "This is a copy of the test set of the UCI ML hand-written digits datasets\n",
      "http://archive.ics.uci.edu/ml/datasets/Optical+Recognition+of+Handwritten+Digits\n",
      "\n",
      "The data set contains images of hand-written digits: 10 classes where\n",
      "each class refers to a digit.\n",
      "\n",
      "Preprocessing programs made available by NIST were used to extract\n",
      "normalized bitmaps of handwritten digits from a preprinted form. From a\n",
      "total of 43 people, 30 contributed to the training set and different 13\n",
      "to the test set. 32x32 bitmaps are divided into nonoverlapping blocks of\n",
      "4x4 and the number of on pixels are counted in each block. This generates\n",
      "an input matrix of 8x8 where each element is an integer in the range\n",
      "0..16. This reduces dimensionality and gives invariance to small\n",
      "distortions.\n",
      "\n",
      "For info on NIST preprocessing routines, see M. D. Garris, J. L. Blue, G.\n",
      "T. Candela, D. L. Dimmick, J. Geist, P. J. Grother, S. A. Janet, and C.\n",
      "L. Wilson, NIST Form-Based Handprint Recognition System, NISTIR 5469,\n",
      "1994.\n",
      "\n",
      ".. topic:: References\n",
      "\n",
      "  - C. Kaynak (1995) Methods of Combining Multiple Classifiers and Their\n",
      "    Applications to Handwritten Digit Recognition, MSc Thesis, Institute of\n",
      "    Graduate Studies in Science and Engineering, Bogazici University.\n",
      "  - E. Alpaydin, C. Kaynak (1998) Cascading Classifiers, Kybernetika.\n",
      "  - Ken Tang and Ponnuthurai N. Suganthan and Xi Yao and A. Kai Qin.\n",
      "    Linear dimensionalityreduction using relevance weighted LDA. School of\n",
      "    Electrical and Electronic Engineering Nanyang Technological University.\n",
      "    2005.\n",
      "  - Claudio Gentile. A New Approximate Maximal Margin Classification\n",
      "    Algorithm. NIPS. 2000.\n",
      "___________________________________________________________________________________________________\n",
      "\n",
      "Target Names: [0 1 2 3 4 5 6 7 8 9]\n",
      "\n",
      "Shape: (1797, 8, 8)\n"
     ]
    }
   ],
   "source": [
    "print(mnist.DESCR)\n",
    "print('___________________________________________________________________________________________________')\n",
    "print()\n",
    "print('Target Names:',mnist.target_names)\n",
    "print()\n",
    "print('Shape:', mnist.images.shape)"
   ]
  },
  {
   "cell_type": "markdown",
   "metadata": {},
   "source": [
    "### Now print again the shape of `mnist.images` and `mnist.data`. "
   ]
  },
  {
   "cell_type": "code",
   "execution_count": 5,
   "metadata": {},
   "outputs": [
    {
     "name": "stdout",
     "output_type": "stream",
     "text": [
      "Shape Images: (1797, 8, 8)\n",
      "Shape Data: (1797, 64)\n"
     ]
    }
   ],
   "source": [
    "print('Shape Images:', mnist.images.shape)\n",
    "print('Shape Data:', mnist.data.shape)"
   ]
  },
  {
   "cell_type": "code",
   "execution_count": 6,
   "metadata": {},
   "outputs": [
    {
     "data": {
      "text/plain": [
       "array([[ 0.,  0.,  5., 13.,  9.,  1.,  0.,  0.],\n",
       "       [ 0.,  0., 13., 15., 10., 15.,  5.,  0.],\n",
       "       [ 0.,  3., 15.,  2.,  0., 11.,  8.,  0.],\n",
       "       [ 0.,  4., 12.,  0.,  0.,  8.,  8.,  0.],\n",
       "       [ 0.,  5.,  8.,  0.,  0.,  9.,  8.,  0.],\n",
       "       [ 0.,  4., 11.,  0.,  1., 12.,  7.,  0.],\n",
       "       [ 0.,  2., 14.,  5., 10., 12.,  0.,  0.],\n",
       "       [ 0.,  0.,  6., 13., 10.,  0.,  0.,  0.]])"
      ]
     },
     "execution_count": 6,
     "metadata": {},
     "output_type": "execute_result"
    }
   ],
   "source": [
    "mnist.images[0]"
   ]
  },
  {
   "cell_type": "code",
   "execution_count": 7,
   "metadata": {
    "scrolled": false
   },
   "outputs": [
    {
     "name": "stdout",
     "output_type": "stream",
     "text": [
      "0    [[0.0, 0.0, 5.0, 13.0, 9.0, 1.0, 0.0, 0.0], [0...\n",
      "1    [[0.0, 0.0, 0.0, 12.0, 13.0, 5.0, 0.0, 0.0], [...\n",
      "2    [[0.0, 0.0, 0.0, 4.0, 15.0, 12.0, 0.0, 0.0], [...\n",
      "dtype: object\n",
      "-------------------------------------------------------------------------------------\n",
      "    0    1    2     3     4     5    6    7    8    9  ...    54   55   56  \\\n",
      "0  0.0  0.0  5.0  13.0   9.0   1.0  0.0  0.0  0.0  0.0 ...   0.0  0.0  0.0   \n",
      "1  0.0  0.0  0.0  12.0  13.0   5.0  0.0  0.0  0.0  0.0 ...   0.0  0.0  0.0   \n",
      "2  0.0  0.0  0.0   4.0  15.0  12.0  0.0  0.0  0.0  0.0 ...   5.0  0.0  0.0   \n",
      "\n",
      "    57   58    59    60    61   62   63  \n",
      "0  0.0  6.0  13.0  10.0   0.0  0.0  0.0  \n",
      "1  0.0  0.0  11.0  16.0  10.0  0.0  0.0  \n",
      "2  0.0  0.0   3.0  11.0  16.0  9.0  0.0  \n",
      "\n",
      "[3 rows x 64 columns]\n"
     ]
    }
   ],
   "source": [
    "shape_images = pd.Series(map(lambda x:[x], mnist.images)).apply(lambda x:x[0]).head(3)\n",
    "shape_data = pd.DataFrame(mnist.data).head(3)\n",
    "print(shape_images)\n",
    "print('-------------------------------------------------------------------------------------')\n",
    "print(shape_data)"
   ]
  },
  {
   "cell_type": "markdown",
   "metadata": {},
   "source": [
    "## What do you think is the relationship between them?"
   ]
  },
  {
   "cell_type": "markdown",
   "metadata": {},
   "source": [
    "mnist.images presents the data of the features of each image in 8 groups of 8 features (i.e. 8x8). On the other hand, mnist.data present the data with 64 individual features instead of groups of features, hence mnist.data presents the same data as mnist.images with reduced dimensionality.   "
   ]
  },
  {
   "cell_type": "markdown",
   "metadata": {},
   "source": [
    "## Visualize and present the dataset"
   ]
  },
  {
   "cell_type": "markdown",
   "metadata": {},
   "source": [
    "Below we see an example of the ten digits and their pixilisation. This is what we want to be able to predict. "
   ]
  },
  {
   "cell_type": "code",
   "execution_count": 8,
   "metadata": {},
   "outputs": [
    {
     "data": {
      "image/png": "[encoded data removed]",
      "text/plain": [
       "<Figure size 1080x432 with 10 Axes>"
      ]
     },
     "metadata": {},
     "output_type": "display_data"
    }
   ],
   "source": [
    "fig = plt.figure(figsize=(15, 6))\n",
    "columns = 5\n",
    "rows = 2\n",
    "\n",
    "# ax enables access to manipulate each of subplots\n",
    "ax = []\n",
    "\n",
    "for i in range(0, 10):\n",
    "    img = mnist.images[i]\n",
    "    ax.append(fig.add_subplot(rows, columns, i+1))\n",
    "    ax[-1].set_title(\"Digit: \"+str(i))\n",
    "    plt.gray() \n",
    "    plt.imshow(img) "
   ]
  },
  {
   "cell_type": "markdown",
   "metadata": {},
   "source": [
    "# Apply the SVC to perform multi-class classification"
   ]
  },
  {
   "cell_type": "markdown",
   "metadata": {},
   "source": [
    "In the next section we: \n",
    "- Define our dependent and independent variables\n",
    "- Create train and test sets\n",
    "- Train our basic SVC model, using basic hyperparameters \n",
    "- Evaluate our model against our test set"
   ]
  },
  {
   "cell_type": "code",
   "execution_count": 9,
   "metadata": {},
   "outputs": [],
   "source": [
    "from sklearn.model_selection import train_test_split\n",
    "from sklearn.metrics import confusion_matrix, accuracy_score, precision_score, classification_report, precision_recall_curve"
   ]
  },
  {
   "cell_type": "code",
   "execution_count": 10,
   "metadata": {},
   "outputs": [],
   "source": [
    "X = mnist.data\n",
    "y = mnist.target"
   ]
  },
  {
   "cell_type": "code",
   "execution_count": 11,
   "metadata": {},
   "outputs": [],
   "source": [
    "X_train, X_test, y_train, y_test = train_test_split(X, y, test_size=0.3, random_state=42)"
   ]
  },
  {
   "cell_type": "markdown",
   "metadata": {},
   "source": [
    "## SVC Trials"
   ]
  },
  {
   "cell_type": "code",
   "execution_count": 12,
   "metadata": {},
   "outputs": [],
   "source": [
    "from sklearn.svm import SVC  # \"Support vector classifier\"\n",
    "import scikitplot as skplt # for plotting confusion matrix"
   ]
  },
  {
   "cell_type": "code",
   "execution_count": 13,
   "metadata": {},
   "outputs": [
    {
     "data": {
      "text/plain": [
       "SVC(C=1.0, cache_size=200, class_weight=None, coef0=0.0,\n",
       "  decision_function_shape='ovr', degree=3, gamma='auto_deprecated',\n",
       "  kernel='rbf', max_iter=-1, probability=False, random_state=None,\n",
       "  shrinking=True, tol=0.001, verbose=False)"
      ]
     },
     "execution_count": 13,
     "metadata": {},
     "output_type": "execute_result"
    }
   ],
   "source": [
    "svc_def = SVC()\n",
    "svc_def.fit(X_train, y_train)"
   ]
  },
  {
   "cell_type": "code",
   "execution_count": 14,
   "metadata": {},
   "outputs": [],
   "source": [
    "pred_svc_def = svc_def.predict(X_test)"
   ]
  },
  {
   "cell_type": "code",
   "execution_count": 15,
   "metadata": {},
   "outputs": [
    {
     "name": "stdout",
     "output_type": "stream",
     "text": [
      "Accuracy Score SVC Default:  0.3925925925925926\n"
     ]
    }
   ],
   "source": [
    "print(\"Accuracy Score SVC Default: \", accuracy_score(y_test, pred_svc_def))"
   ]
  },
  {
   "cell_type": "code",
   "execution_count": 16,
   "metadata": {},
   "outputs": [
    {
     "data": {
      "text/plain": [
       "<matplotlib.axes._subplots.AxesSubplot at 0x1a1c7c8f98>"
      ]
     },
     "execution_count": 16,
     "metadata": {},
     "output_type": "execute_result"
    },
    {
     "data": {
      "image/png": "[encoded data removed]",
      "text/plain": [
       "<Figure size 432x288 with 2 Axes>"
      ]
     },
     "metadata": {},
     "output_type": "display_data"
    }
   ],
   "source": [
    "skplt.metrics.plot_confusion_matrix(\n",
    "    y_test,pred_svc_def, normalize=True,)"
   ]
  },
  {
   "cell_type": "markdown",
   "metadata": {},
   "source": [
    "The confusion matrix confirms the low score from the Accuracy Score test and points out that the digit 8 is the hardest digit to predict using the SVC default settings. As highlighted by the darker boxes,the SVC classifier will wrongly predict all number values to 8 most of the time, i.e. 5 is confused by 8 100% of the times, while 9 is confused by 8 90% of times. Oddly, 6 a number that visualy resembles 8 more than the rest of the digits is the one that is confused the least by number 8, although 34% is still a high number. Hyperparameter tunning to follow."
   ]
  },
  {
   "cell_type": "markdown",
   "metadata": {},
   "source": [
    "## Applying Grid Search is an efficient way to find the best fit hyperparameters for our SVC model. "
   ]
  },
  {
   "cell_type": "code",
   "execution_count": 17,
   "metadata": {},
   "outputs": [],
   "source": [
    "from sklearn.model_selection import GridSearchCV, ParameterGrid"
   ]
  },
  {
   "cell_type": "markdown",
   "metadata": {},
   "source": [
    "The hyperparameters that will be tested are C, Kernel and Gamma. Below we create a gridsearch for all the possible combinations between the given hyperparameters. "
   ]
  },
  {
   "cell_type": "code",
   "execution_count": 18,
   "metadata": {},
   "outputs": [],
   "source": [
    "c = [0.00001, 0.0001, 0.001, 0.01, 0.1, 1, 10, 100]\n",
    "k = ['linear', 'poly', 'rbf', 'sigmoid']\n",
    "g = [100, 10,1,0.1,0.01, 0.001]"
   ]
  },
  {
   "cell_type": "code",
   "execution_count": 19,
   "metadata": {},
   "outputs": [],
   "source": [
    "param_grid = dict(C=c, \n",
    "                  kernel=k, \n",
    "                  gamma = g )"
   ]
  },
  {
   "cell_type": "code",
   "execution_count": 20,
   "metadata": {},
   "outputs": [],
   "source": [
    "grid_search = GridSearchCV(SVC(), param_grid=param_grid, scoring=\"accuracy\", n_jobs=-1)"
   ]
  },
  {
   "cell_type": "code",
   "execution_count": 21,
   "metadata": {},
   "outputs": [
    {
     "data": {
      "text/plain": [
       "GridSearchCV(cv='warn', error_score='raise-deprecating',\n",
       "       estimator=SVC(C=1.0, cache_size=200, class_weight=None, coef0=0.0,\n",
       "  decision_function_shape='ovr', degree=3, gamma='auto_deprecated',\n",
       "  kernel='rbf', max_iter=-1, probability=False, random_state=None,\n",
       "  shrinking=True, tol=0.001, verbose=False),\n",
       "       fit_params=None, iid='warn', n_jobs=-1,\n",
       "       param_grid={'C': [1e-05, 0.0001, 0.001, 0.01, 0.1, 1, 10, 100], 'kernel': ['linear', 'poly', 'rbf', 'sigmoid'], 'gamma': [100, 10, 1, 0.1, 0.01, 0.001]},\n",
       "       pre_dispatch='2*n_jobs', refit=True, return_train_score='warn',\n",
       "       scoring='accuracy', verbose=0)"
      ]
     },
     "execution_count": 21,
     "metadata": {},
     "output_type": "execute_result"
    }
   ],
   "source": [
    "grid_search.fit(X_train, y_train)"
   ]
  },
  {
   "cell_type": "code",
   "execution_count": 22,
   "metadata": {
    "scrolled": false
   },
   "outputs": [
    {
     "data": {
      "text/html": [
       "<div>\n",
       "<style scoped>\n",
       "    .dataframe tbody tr th:only-of-type {\n",
       "        vertical-align: middle;\n",
       "    }\n",
       "\n",
       "    .dataframe tbody tr th {\n",
       "        vertical-align: top;\n",
       "    }\n",
       "\n",
       "    .dataframe thead th {\n",
       "        text-align: right;\n",
       "    }\n",
       "</style>\n",
       "<table border=\"1\" class=\"dataframe\">\n",
       "  <thead>\n",
       "    <tr style=\"text-align: right;\">\n",
       "      <th></th>\n",
       "      <th>Average Accuracy Score</th>\n",
       "      <th>C</th>\n",
       "      <th>gamma</th>\n",
       "      <th>kernel</th>\n",
       "    </tr>\n",
       "  </thead>\n",
       "  <tbody>\n",
       "    <tr>\n",
       "      <th>0</th>\n",
       "      <td>0.989658</td>\n",
       "      <td>100.00000</td>\n",
       "      <td>0.001</td>\n",
       "      <td>rbf</td>\n",
       "    </tr>\n",
       "    <tr>\n",
       "      <th>1</th>\n",
       "      <td>0.989658</td>\n",
       "      <td>10.00000</td>\n",
       "      <td>0.001</td>\n",
       "      <td>rbf</td>\n",
       "    </tr>\n",
       "    <tr>\n",
       "      <th>2</th>\n",
       "      <td>0.987271</td>\n",
       "      <td>1.00000</td>\n",
       "      <td>0.001</td>\n",
       "      <td>rbf</td>\n",
       "    </tr>\n",
       "    <tr>\n",
       "      <th>3</th>\n",
       "      <td>0.985680</td>\n",
       "      <td>0.10000</td>\n",
       "      <td>0.001</td>\n",
       "      <td>poly</td>\n",
       "    </tr>\n",
       "    <tr>\n",
       "      <th>4</th>\n",
       "      <td>0.985680</td>\n",
       "      <td>0.00010</td>\n",
       "      <td>0.010</td>\n",
       "      <td>poly</td>\n",
       "    </tr>\n",
       "    <tr>\n",
       "      <th>5</th>\n",
       "      <td>0.981702</td>\n",
       "      <td>0.00001</td>\n",
       "      <td>100.000</td>\n",
       "      <td>poly</td>\n",
       "    </tr>\n",
       "    <tr>\n",
       "      <th>6</th>\n",
       "      <td>0.981702</td>\n",
       "      <td>0.01000</td>\n",
       "      <td>100.000</td>\n",
       "      <td>poly</td>\n",
       "    </tr>\n",
       "    <tr>\n",
       "      <th>7</th>\n",
       "      <td>0.981702</td>\n",
       "      <td>0.00100</td>\n",
       "      <td>0.100</td>\n",
       "      <td>poly</td>\n",
       "    </tr>\n",
       "    <tr>\n",
       "      <th>8</th>\n",
       "      <td>0.981702</td>\n",
       "      <td>10.00000</td>\n",
       "      <td>0.100</td>\n",
       "      <td>poly</td>\n",
       "    </tr>\n",
       "    <tr>\n",
       "      <th>9</th>\n",
       "      <td>0.981702</td>\n",
       "      <td>0.00010</td>\n",
       "      <td>1.000</td>\n",
       "      <td>poly</td>\n",
       "    </tr>\n",
       "  </tbody>\n",
       "</table>\n",
       "</div>"
      ],
      "text/plain": [
       "   Average Accuracy Score          C    gamma kernel\n",
       "0                0.989658  100.00000    0.001    rbf\n",
       "1                0.989658   10.00000    0.001    rbf\n",
       "2                0.987271    1.00000    0.001    rbf\n",
       "3                0.985680    0.10000    0.001   poly\n",
       "4                0.985680    0.00010    0.010   poly\n",
       "5                0.981702    0.00001  100.000   poly\n",
       "6                0.981702    0.01000  100.000   poly\n",
       "7                0.981702    0.00100    0.100   poly\n",
       "8                0.981702   10.00000    0.100   poly\n",
       "9                0.981702    0.00010    1.000   poly"
      ]
     },
     "execution_count": 22,
     "metadata": {},
     "output_type": "execute_result"
    }
   ],
   "source": [
    "# Top 10 combination of hyperparameters by Average Accuracy Score \n",
    "cvres = grid_search.cv_results_\n",
    "cvres_scores = pd.DataFrame(cvres[\"mean_test_score\"])\n",
    "cvres_scores.rename(columns={0: 'Average Accuracy Score'}, inplace=True)\n",
    "cvres_params = pd.DataFrame(cvres[\"params\"])\n",
    "best_scores_SVC = pd.concat([cvres_scores, cvres_params], axis=1)\n",
    "best_scores_SVC = best_scores_SVC.sort_values(by=['Average Accuracy Score'], ascending = False)\n",
    "best_scores_SVC = best_scores_SVC.reset_index().drop(columns=['index'])\n",
    "best_scores_SVC.head(10)"
   ]
  },
  {
   "cell_type": "code",
   "execution_count": 23,
   "metadata": {},
   "outputs": [
    {
     "data": {
      "image/png": "[encoded data removed]",
      "text/plain": [
       "<Figure size 432x288 with 1 Axes>"
      ]
     },
     "metadata": {},
     "output_type": "display_data"
    }
   ],
   "source": [
    "plt.scatter(y = best_scores_SVC[\"Average Accuracy Score\"].head(10), x = best_scores_SVC.head(10).index);"
   ]
  },
  {
   "cell_type": "code",
   "execution_count": 24,
   "metadata": {},
   "outputs": [
    {
     "data": {
      "text/plain": [
       "0.9896579156722355"
      ]
     },
     "execution_count": 24,
     "metadata": {},
     "output_type": "execute_result"
    }
   ],
   "source": [
    "svc_as = best_scores_SVC[\"Average Accuracy Score\"][0]\n",
    "svc_as"
   ]
  },
  {
   "cell_type": "code",
   "execution_count": 25,
   "metadata": {},
   "outputs": [
    {
     "data": {
      "image/png": "[encoded data removed]",
      "text/plain": [
       "<Figure size 432x288 with 1 Axes>"
      ]
     },
     "metadata": {},
     "output_type": "display_data"
    }
   ],
   "source": [
    "grouped_df_kernel = best_scores_SVC.groupby('kernel')['Average Accuracy Score'].mean()\n",
    "plt.plot(grouped_df_kernel, marker = 'o')\n",
    "plt.xlabel('Kernel')\n",
    "plt.ylabel('Avg. Accuracy Score')\n",
    "plt.title('Top 10 by Kernel');"
   ]
  },
  {
   "cell_type": "code",
   "execution_count": 26,
   "metadata": {},
   "outputs": [
    {
     "data": {
      "image/png": "[encoded data removed]",
      "text/plain": [
       "<Figure size 432x288 with 1 Axes>"
      ]
     },
     "metadata": {},
     "output_type": "display_data"
    }
   ],
   "source": [
    "grouped_df_C = best_scores_SVC.groupby('C')['Average Accuracy Score'].mean()\n",
    "plt.plot(grouped_df_C, marker = 'o')\n",
    "plt.xlabel('C - values')\n",
    "plt.ylabel('Avg. Accuracy Score')\n",
    "plt.title('Top 10 by C');"
   ]
  },
  {
   "cell_type": "code",
   "execution_count": 27,
   "metadata": {},
   "outputs": [
    {
     "data": {
      "image/png": "[encoded data removed]",
      "text/plain": [
       "<Figure size 432x288 with 1 Axes>"
      ]
     },
     "metadata": {},
     "output_type": "display_data"
    }
   ],
   "source": [
    "grouped_df_gamma = best_scores_SVC.groupby('gamma')['Average Accuracy Score'].mean()\n",
    "plt.plot(grouped_df_gamma, marker = 'o')\n",
    "plt.xlabel('Gamma - values')\n",
    "plt.ylabel('Avg. Accuracy Score')\n",
    "plt.title('Top 10 by Gamma');"
   ]
  },
  {
   "cell_type": "markdown",
   "metadata": {},
   "source": [
    "Best accuracy scores are obtained from kernels using rbf, nonetheless Polynomial kernels are also good predictors. Top 10 models showcase a variety of values in the C and Gamma parameters, indicating these parameters do not play an important role in the model's performance for this particular dataset and prediction challenge. On the other hand, we can observe how the top 3 combinations have a kernell of RBF and 70% of the top 10 have a Polynomial kernell, indicating of the importance of the parameter. \n",
    "\n",
    "Nevertheless, let's check the best model from the GridSearch by also running best_params."
   ]
  },
  {
   "cell_type": "code",
   "execution_count": 28,
   "metadata": {},
   "outputs": [
    {
     "name": "stdout",
     "output_type": "stream",
     "text": [
      "0.9896579156722355\n",
      "{'C': 10, 'gamma': 0.001, 'kernel': 'rbf'}\n"
     ]
    }
   ],
   "source": [
    "print(grid_search.best_score_)\n",
    "print(grid_search.best_params_)"
   ]
  },
  {
   "cell_type": "code",
   "execution_count": 29,
   "metadata": {
    "_uuid": "a5698e4a028b3348d42a5ca232c56065abbe119e"
   },
   "outputs": [],
   "source": [
    "svc_best = SVC(C = 10, kernel = 'rbf', gamma= 0.001)"
   ]
  },
  {
   "cell_type": "markdown",
   "metadata": {},
   "source": [
    "Our gamma is low, and our C is high. This means that the model is working hard to classify each of the examples correctly, and is also considering more examples in defining the hyperplane."
   ]
  },
  {
   "cell_type": "code",
   "execution_count": 30,
   "metadata": {},
   "outputs": [
    {
     "data": {
      "text/plain": [
       "SVC(C=10, cache_size=200, class_weight=None, coef0=0.0,\n",
       "  decision_function_shape='ovr', degree=3, gamma=0.001, kernel='rbf',\n",
       "  max_iter=-1, probability=False, random_state=None, shrinking=True,\n",
       "  tol=0.001, verbose=False)"
      ]
     },
     "execution_count": 30,
     "metadata": {},
     "output_type": "execute_result"
    }
   ],
   "source": [
    "svc_best.fit(X_train,y_train)"
   ]
  },
  {
   "cell_type": "code",
   "execution_count": 31,
   "metadata": {},
   "outputs": [],
   "source": [
    "#cvres = grid_search.cv_results_\n",
    "#grid_search_results = []\n",
    "#for accuracy, params in zip(cvres[\"mean_test_score\"], cvres[\"params\"]):\n",
    " #       grid_search_results.append(accuracy)\n",
    "  #      grid_search_results.append(params)"
   ]
  },
  {
   "cell_type": "code",
   "execution_count": 32,
   "metadata": {
    "_uuid": "5adb7d84ba12ca9f9ea80d9eda043b0002456d5b"
   },
   "outputs": [],
   "source": [
    "predictions_svc_best = svc_best.predict(X_test)"
   ]
  },
  {
   "cell_type": "code",
   "execution_count": 33,
   "metadata": {},
   "outputs": [
    {
     "name": "stdout",
     "output_type": "stream",
     "text": [
      "Accuracy Score SVC Best:  0.9907407407407407\n"
     ]
    }
   ],
   "source": [
    "print(\"Accuracy Score SVC Best: \", accuracy_score(y_test, predictions_svc_best))"
   ]
  },
  {
   "cell_type": "code",
   "execution_count": 34,
   "metadata": {},
   "outputs": [
    {
     "data": {
      "text/plain": [
       "<matplotlib.axes._subplots.AxesSubplot at 0x1a1cdb5588>"
      ]
     },
     "execution_count": 34,
     "metadata": {},
     "output_type": "execute_result"
    },
    {
     "data": {
      "image/png": "[encoded data removed]",
      "text/plain": [
       "<Figure size 432x288 with 2 Axes>"
      ]
     },
     "metadata": {},
     "output_type": "display_data"
    }
   ],
   "source": [
    "skplt.metrics.plot_confusion_matrix(\n",
    "    y_test,predictions_svc_best, normalize=True,)"
   ]
  },
  {
   "cell_type": "markdown",
   "metadata": {},
   "source": [
    "Model has improved dramatically from the default settings by tunning in hyperparamters, the only number that is confused by 8 is number 3, and it only happens 2% of the time."
   ]
  },
  {
   "cell_type": "markdown",
   "metadata": {},
   "source": [
    "## More validation for our best model"
   ]
  },
  {
   "cell_type": "markdown",
   "metadata": {},
   "source": [
    "While not totally necessary in this case because we have already validated above, we will use a stratified Kfold and print the confusion matrix for each fold in order to validate our best_param model. We chose a stratified Kfold because of the nature of this problem - we want to make sure that each validation is given the same ratio of images."
   ]
  },
  {
   "cell_type": "code",
   "execution_count": 35,
   "metadata": {},
   "outputs": [],
   "source": [
    "from sklearn.model_selection import StratifiedKFold\n",
    "from sklearn.base import clone\n",
    "# Using clone to copy our model but without having been fit. "
   ]
  },
  {
   "cell_type": "code",
   "execution_count": 36,
   "metadata": {},
   "outputs": [
    {
     "name": "stdout",
     "output_type": "stream",
     "text": [
      "0.9858156028368794\n",
      "0.9928400954653938\n",
      "0.9903614457831326\n"
     ]
    }
   ],
   "source": [
    "skfolds = StratifiedKFold(n_splits=3, random_state=42)\n",
    "\n",
    "for train_index, test_index in skfolds.split(X_train, y_train):\n",
    "    clone_svc = clone(svc_best)\n",
    "    X_train_folds = X_train[train_index]\n",
    "    y_train_folds = (y_train[train_index])\n",
    "    X_test_fold = X_train[test_index]\n",
    "    y_test_fold = (y_train[test_index])\n",
    "\n",
    "    clone_svc.fit(X_train_folds, y_train_folds)\n",
    "    y_pred = clone_svc.predict(X_test_fold)\n",
    "    n_correct = sum(y_pred == y_test_fold)\n",
    "    print(n_correct / len(y_pred))"
   ]
  },
  {
   "cell_type": "code",
   "execution_count": 37,
   "metadata": {},
   "outputs": [
    {
     "data": {
      "text/plain": [
       "array([0.9858156 , 0.9928401 , 0.99036145])"
      ]
     },
     "execution_count": 37,
     "metadata": {},
     "output_type": "execute_result"
    }
   ],
   "source": [
    "# We later stumbled on this code, which is much simpler, but I like that the above specifies Kfold\n",
    "from sklearn.model_selection import cross_val_score\n",
    "cross_val = cross_val_score(svc_best, X_train, y_train, cv=3, scoring=\"accuracy\")\n",
    "cross_val"
   ]
  },
  {
   "cell_type": "markdown",
   "metadata": {},
   "source": [
    "Our best model gets over ~99% accuracy on all folds."
   ]
  },
  {
   "cell_type": "markdown",
   "metadata": {},
   "source": [
    "# Revisiting the different kernel types"
   ]
  },
  {
   "cell_type": "markdown",
   "metadata": {},
   "source": [
    "More out of curiosity, I wanted to see the relative performance of the different kernel types. Below we create individual models with the different kernels, and then plot their predictive performance. "
   ]
  },
  {
   "cell_type": "code",
   "execution_count": 38,
   "metadata": {},
   "outputs": [],
   "source": [
    "svc_poly = SVC(kernel = 'poly')\n",
    "svc_poly.fit(X_train, y_train)\n",
    "poly_pred = svc_poly.predict(X_test)\n",
    "conf_poly = confusion_matrix(y_test, poly_pred)"
   ]
  },
  {
   "cell_type": "code",
   "execution_count": 39,
   "metadata": {},
   "outputs": [],
   "source": [
    "svc_rbf = SVC(kernel = 'rbf')\n",
    "svc_rbf.fit(X_train, y_train)\n",
    "rbf_pred = svc_rbf.predict(X_test)\n",
    "conf_rbf = confusion_matrix(y_test, rbf_pred)"
   ]
  },
  {
   "cell_type": "code",
   "execution_count": 40,
   "metadata": {},
   "outputs": [],
   "source": [
    "svc_linear = SVC(kernel = 'linear')\n",
    "svc_linear.fit(X_train, y_train)\n",
    "linear_rbf = svc_linear.predict(X_test)\n",
    "conf_linear = confusion_matrix(y_test, linear_rbf)"
   ]
  },
  {
   "cell_type": "code",
   "execution_count": 41,
   "metadata": {},
   "outputs": [],
   "source": [
    "svc_sigmoid = SVC(kernel = 'sigmoid')\n",
    "svc_sigmoid.fit(X_train, y_train)\n",
    "sigmoid_rbf = svc_sigmoid.predict(X_test)\n",
    "conf_sigmoid = confusion_matrix(y_test, sigmoid_rbf)"
   ]
  },
  {
   "cell_type": "code",
   "execution_count": 42,
   "metadata": {},
   "outputs": [
    {
     "data": {
      "image/png": "[encoded data removed]",
      "text/plain": [
       "<Figure size 1224x288 with 4 Axes>"
      ]
     },
     "metadata": {},
     "output_type": "display_data"
    }
   ],
   "source": [
    "fig, (ax1, ax2, ax3, ax4) = plt.subplots(1, 4, figsize=(17,4))\n",
    "\n",
    "#poly\n",
    "row_sums = conf_poly.sum(axis=1, keepdims=True)\n",
    "norm_conf_poly = conf_poly / row_sums\n",
    "\n",
    "np.fill_diagonal(norm_conf_poly, 0)\n",
    "ax1.matshow(norm_conf_poly, cmap=plt.cm.gray)\n",
    "ax1.set_title('Kernel: poly')\n",
    "plt.xticks(np.arange(0, 10, step=1))\n",
    "plt.yticks(np.arange(0, 10, step=1))\n",
    "\n",
    "#rbf\n",
    "row_sums = conf_rbf.sum(axis=1, keepdims=True)\n",
    "norm_conf_rbf = conf_rbf / row_sums\n",
    "\n",
    "np.fill_diagonal(norm_conf_rbf, 0)\n",
    "ax2.matshow(norm_conf_rbf, cmap=plt.cm.gray)\n",
    "ax2.set_title('Kernel: rbf')\n",
    "plt.xticks(np.arange(0, 10, step=1))\n",
    "plt.yticks(np.arange(0, 10, step=1))\n",
    "\n",
    "#sigmoid\n",
    "row_sums = conf_sigmoid.sum(axis=1, keepdims=True)\n",
    "norm_conf_sigmoid = conf_sigmoid / row_sums\n",
    "\n",
    "np.fill_diagonal(norm_conf_sigmoid, 0)\n",
    "ax3.matshow(norm_conf_sigmoid, cmap=plt.cm.gray)\n",
    "ax3.set_title('Kernel: sigmoid')\n",
    "plt.xticks(np.arange(0, 10, step=1))\n",
    "plt.yticks(np.arange(0, 10, step=1))\n",
    "\n",
    "#linear\n",
    "row_sums = conf_linear.sum(axis=1, keepdims=True)\n",
    "norm_conf_linear = conf_linear / row_sums\n",
    "\n",
    "np.fill_diagonal(norm_conf_linear, 0)\n",
    "ax4.matshow(norm_conf_linear, cmap=plt.cm.gray)\n",
    "ax4.set_title('Kernel: linear')\n",
    "plt.xticks(np.arange(0, 10, step=1))\n",
    "plt.yticks(np.arange(0, 10, step=1))\n",
    "plt.show()\n"
   ]
  },
  {
   "cell_type": "markdown",
   "metadata": {},
   "source": [
    "Rows represent actual classes, while columns are predicted classes. It's curious though how rbf underperforms the poly kernell, when gamma and C are kept default. Nontheless, this enforces the finding from the top 10 table where most of the top performers were Polynomial. \n",
    "\n",
    "The rbf struggles with the number 8 - it predicted many of the images to be an 8, when they were in fact another value (particularly 5s). \n",
    "\n",
    "The sigmoid kernel, however, stuggled most with the number 1. It is almost as if it predicted everything to be a 1. \n",
    "\n",
    "The linear kernel is a bit more scattered. The biggest issues are again with 5s and 8s, but it seems to be the second best kernel option, after poly."
   ]
  },
  {
   "cell_type": "markdown",
   "metadata": {},
   "source": [
    "# Repeating the above with C"
   ]
  },
  {
   "cell_type": "code",
   "execution_count": 43,
   "metadata": {},
   "outputs": [],
   "source": [
    "svc1 = SVC(C = 0.01)\n",
    "svc1.fit(X_train, y_train)\n",
    "pred1 = svc_poly.predict(X_test)\n",
    "conf1 = confusion_matrix(y_test, pred1)"
   ]
  },
  {
   "cell_type": "code",
   "execution_count": 44,
   "metadata": {},
   "outputs": [],
   "source": [
    "svc2 = SVC(C = 0.1)\n",
    "svc2.fit(X_train, y_train)\n",
    "pred2 = svc2.predict(X_test)\n",
    "conf2 = confusion_matrix(y_test, pred2)"
   ]
  },
  {
   "cell_type": "code",
   "execution_count": 45,
   "metadata": {},
   "outputs": [],
   "source": [
    "svc3 = SVC(C = 1)\n",
    "svc3.fit(X_train, y_train)\n",
    "pred3 = svc3.predict(X_test)\n",
    "conf3 = confusion_matrix(y_test, pred3)"
   ]
  },
  {
   "cell_type": "code",
   "execution_count": 46,
   "metadata": {},
   "outputs": [],
   "source": [
    "svc4 = SVC(C = 10)\n",
    "svc4.fit(X_train, y_train)\n",
    "pred4 = svc4.predict(X_test)\n",
    "conf4 = confusion_matrix(y_test, pred4)"
   ]
  },
  {
   "cell_type": "code",
   "execution_count": 47,
   "metadata": {},
   "outputs": [
    {
     "data": {
      "image/png": "[encoded data removed]",
      "text/plain": [
       "<Figure size 1224x288 with 4 Axes>"
      ]
     },
     "metadata": {},
     "output_type": "display_data"
    }
   ],
   "source": [
    "fig, (ax1, ax2, ax3, ax4) = plt.subplots(1, 4, figsize=(17,4))\n",
    "\n",
    "#0.0001\n",
    "row_sums = conf1.sum(axis=1, keepdims=True)\n",
    "norm_conf_1 = conf1 / row_sums\n",
    "\n",
    "np.fill_diagonal(norm_conf_1, 0)\n",
    "ax1.matshow(norm_conf_1, cmap=plt.cm.gray)\n",
    "ax1.set_title('C: 0.01')\n",
    "plt.xticks(np.arange(0, 10, step=1))\n",
    "plt.yticks(np.arange(0, 10, step=1))\n",
    "\n",
    "#0.001\n",
    "row_sums = conf2.sum(axis=1, keepdims=True)\n",
    "norm_conf_2 = conf2 / row_sums\n",
    "\n",
    "np.fill_diagonal(norm_conf_2, 0)\n",
    "ax2.matshow(norm_conf_rbf, cmap=plt.cm.gray)\n",
    "ax2.set_title('C: 0.1')\n",
    "plt.xticks(np.arange(0, 10, step=1))\n",
    "plt.yticks(np.arange(0, 10, step=1))\n",
    "\n",
    "#0.01\n",
    "row_sums = conf3.sum(axis=1, keepdims=True)\n",
    "norm_conf_3 = conf3 / row_sums\n",
    "\n",
    "np.fill_diagonal(norm_conf_3, 0)\n",
    "ax3.matshow(norm_conf_3, cmap=plt.cm.gray)\n",
    "ax3.set_title('C: 1')\n",
    "plt.xticks(np.arange(0, 10, step=1))\n",
    "plt.yticks(np.arange(0, 10, step=1))\n",
    "\n",
    "#0.1\n",
    "row_sums = conf4.sum(axis=1, keepdims=True)\n",
    "norm_conf_4 = conf4 / row_sums\n",
    "\n",
    "np.fill_diagonal(norm_conf_4, 0)\n",
    "ax4.matshow(norm_conf_4, cmap=plt.cm.gray)\n",
    "ax4.set_title('C: 10')\n",
    "plt.xticks(np.arange(0, 10, step=1))\n",
    "plt.yticks(np.arange(0, 10, step=1))\n",
    "\n",
    "plt.show()\n"
   ]
  },
  {
   "cell_type": "markdown",
   "metadata": {},
   "source": [
    "Once again, rows represent actual classes, while columns are predicted classes. For this prediction when other parameters are kept default, a lower C performs better than larger C. Larger C values do a poor job differencing other numbers from 8.\n"
   ]
  },
  {
   "cell_type": "markdown",
   "metadata": {},
   "source": [
    "# Visualising some results from our best_params model"
   ]
  },
  {
   "cell_type": "code",
   "execution_count": 48,
   "metadata": {},
   "outputs": [],
   "source": [
    "#First we apply the best model to the full dataset. \n",
    "final_preds = svc_best.predict(X)"
   ]
  },
  {
   "cell_type": "code",
   "execution_count": 49,
   "metadata": {},
   "outputs": [
    {
     "name": "stdout",
     "output_type": "stream",
     "text": [
      "Accuracy Score SVC Final Prediction:  0.9972175848636616\n"
     ]
    }
   ],
   "source": [
    "print(\"Accuracy Score SVC Final Prediction: \", accuracy_score(y, final_preds))"
   ]
  },
  {
   "cell_type": "code",
   "execution_count": 50,
   "metadata": {},
   "outputs": [
    {
     "data": {
      "text/plain": [
       "<matplotlib.axes._subplots.AxesSubplot at 0x1a1cf69518>"
      ]
     },
     "execution_count": 50,
     "metadata": {},
     "output_type": "execute_result"
    },
    {
     "data": {
      "image/png": "[encoded data removed]",
      "text/plain": [
       "<Figure size 432x288 with 2 Axes>"
      ]
     },
     "metadata": {},
     "output_type": "display_data"
    }
   ],
   "source": [
    "skplt.metrics.plot_confusion_matrix(\n",
    "    y,final_preds, normalize=True,)"
   ]
  },
  {
   "cell_type": "code",
   "execution_count": 51,
   "metadata": {},
   "outputs": [
    {
     "data": {
      "image/png": "[encoded data removed]",
      "text/plain": [
       "<Figure size 1080x504 with 12 Axes>"
      ]
     },
     "metadata": {},
     "output_type": "display_data"
    }
   ],
   "source": [
    "images_and_predictions = list(zip(mnist.images, final_preds, mnist.target))\n",
    "plt.figure(figsize = (15,7))\n",
    "for index, (image, prediction, target) in enumerate(images_and_predictions[:12]):\n",
    "    plt.subplot(4, 4, index + 5)\n",
    "    plt.axis('off')\n",
    "    plt.imshow(image, cmap=plt.cm.gray_r, interpolation='nearest')\n",
    "    plt.title('Prediction: {}, True: {}'.format(prediction, target))\n",
    "\n",
    "plt.show()"
   ]
  },
  {
   "cell_type": "markdown",
   "metadata": {},
   "source": [
    "# Playing around with a OvR classification"
   ]
  },
  {
   "cell_type": "markdown",
   "metadata": {},
   "source": [
    "The SVM model defaults to OvO, let's try OvR."
   ]
  },
  {
   "cell_type": "code",
   "execution_count": 52,
   "metadata": {},
   "outputs": [],
   "source": [
    "from sklearn.multiclass import OneVsRestClassifier\n",
    "ovr_svc = OneVsRestClassifier(SVC(random_state=42))\n",
    "ovr_svc.fit(X_train, y_train)\n",
    "ovr_preds = ovr_svc.predict(X_test)"
   ]
  },
  {
   "cell_type": "code",
   "execution_count": 53,
   "metadata": {},
   "outputs": [],
   "source": [
    "svc_ovr_as = accuracy_score(y_test, ovr_preds)"
   ]
  },
  {
   "cell_type": "code",
   "execution_count": 54,
   "metadata": {},
   "outputs": [
    {
     "name": "stdout",
     "output_type": "stream",
     "text": [
      "Accuracy Score OvR:  0.7888888888888889\n"
     ]
    }
   ],
   "source": [
    "print(\"Accuracy Score OvR: \", svc_ovr_as)"
   ]
  },
  {
   "cell_type": "code",
   "execution_count": 55,
   "metadata": {},
   "outputs": [
    {
     "data": {
      "text/plain": [
       "<matplotlib.axes._subplots.AxesSubplot at 0x1a1dda0550>"
      ]
     },
     "execution_count": 55,
     "metadata": {},
     "output_type": "execute_result"
    },
    {
     "data": {
      "image/png": "[encoded data removed]",
      "text/plain": [
       "<Figure size 432x288 with 2 Axes>"
      ]
     },
     "metadata": {},
     "output_type": "display_data"
    }
   ],
   "source": [
    "ovr_conf_mx = skplt.metrics.plot_confusion_matrix(\n",
    "    y_test,ovr_preds, normalize=True,)\n",
    "ovr_conf_mx"
   ]
  },
  {
   "cell_type": "code",
   "execution_count": 56,
   "metadata": {},
   "outputs": [
    {
     "name": "stdout",
     "output_type": "stream",
     "text": [
      "              precision    recall  f1-score   support\n",
      "\n",
      "           0       1.00      0.87      0.93        53\n",
      "           1       0.98      0.98      0.98        50\n",
      "           2       1.00      0.96      0.98        47\n",
      "           3       1.00      0.78      0.88        54\n",
      "           4       1.00      0.85      0.92        60\n",
      "           5       1.00      0.41      0.58        66\n",
      "           6       1.00      0.94      0.97        53\n",
      "           7       1.00      0.82      0.90        55\n",
      "           8       0.27      0.98      0.42        43\n",
      "           9       1.00      0.49      0.66        59\n",
      "\n",
      "   micro avg       0.79      0.79      0.79       540\n",
      "   macro avg       0.93      0.81      0.82       540\n",
      "weighted avg       0.94      0.79      0.82       540\n",
      "\n"
     ]
    }
   ],
   "source": [
    "print(classification_report(y_test,ovr_preds))"
   ]
  },
  {
   "cell_type": "markdown",
   "metadata": {},
   "source": [
    "Interesting to see how much lower the accuracy is here. The OVR model particularly struggles with 8. 8 has very high recall, but low precision.\n",
    "\n",
    "This makes perfect sense for our specific challenge: in a ovo approach the model is trained on how to distinguish 8 from a 4, 8 from a 3, 8 from a 0 .... etc. However, in the above ovr approach, all of these images are grouped together so the model is less equipped at identifying which specific digits look more similar to an 8. "
   ]
  },
  {
   "cell_type": "markdown",
   "metadata": {},
   "source": [
    "# K Nearest Neighbours classification"
   ]
  },
  {
   "cell_type": "markdown",
   "metadata": {},
   "source": [
    "SVC is clearly an effective technique for classifying the MNIST digits, but we also chose to explore some of the other classification algorithms that we know. First, KNN. We will immediately use a GridSearch approach in order to tune the best model. "
   ]
  },
  {
   "cell_type": "code",
   "execution_count": 57,
   "metadata": {},
   "outputs": [],
   "source": [
    "from sklearn.neighbors import KNeighborsClassifier"
   ]
  },
  {
   "cell_type": "code",
   "execution_count": 58,
   "metadata": {},
   "outputs": [],
   "source": [
    "n = [1, 2, 3, 4, 5, 10]\n",
    "w = ['uniform', 'distance']\n",
    "a = ['ball_tree', 'kd_tree', 'brute', 'auto']"
   ]
  },
  {
   "cell_type": "code",
   "execution_count": 59,
   "metadata": {},
   "outputs": [],
   "source": [
    "param_grid = dict(n_neighbors=n, \n",
    "                  weights=w, \n",
    "                  algorithm=a )"
   ]
  },
  {
   "cell_type": "code",
   "execution_count": 60,
   "metadata": {},
   "outputs": [],
   "source": [
    "grid_search = GridSearchCV(KNeighborsClassifier(), param_grid=param_grid, scoring=\"accuracy\")"
   ]
  },
  {
   "cell_type": "code",
   "execution_count": 61,
   "metadata": {},
   "outputs": [],
   "source": [
    "knn = grid_search.fit(X_train, y_train)"
   ]
  },
  {
   "cell_type": "code",
   "execution_count": 62,
   "metadata": {},
   "outputs": [],
   "source": [
    "knn_as = knn.best_score_"
   ]
  },
  {
   "cell_type": "code",
   "execution_count": 63,
   "metadata": {},
   "outputs": [
    {
     "name": "stdout",
     "output_type": "stream",
     "text": [
      "0.984884645982498\n",
      "{'algorithm': 'ball_tree', 'n_neighbors': 1, 'weights': 'uniform'}\n"
     ]
    }
   ],
   "source": [
    "print(knn.best_score_)\n",
    "print(knn.best_params_)"
   ]
  },
  {
   "cell_type": "code",
   "execution_count": 64,
   "metadata": {},
   "outputs": [],
   "source": [
    "knn_preds = knn.predict(X_test)"
   ]
  },
  {
   "cell_type": "code",
   "execution_count": 65,
   "metadata": {},
   "outputs": [
    {
     "data": {
      "text/plain": [
       "array([[53,  0,  0,  0,  0,  0,  0,  0,  0,  0],\n",
       "       [ 0, 50,  0,  0,  0,  0,  0,  0,  0,  0],\n",
       "       [ 0,  0, 47,  0,  0,  0,  0,  0,  0,  0],\n",
       "       [ 0,  0,  0, 53,  0,  0,  0,  0,  1,  0],\n",
       "       [ 0,  1,  0,  0, 59,  0,  0,  0,  0,  0],\n",
       "       [ 0,  0,  0,  0,  0, 65,  0,  0,  0,  1],\n",
       "       [ 0,  0,  0,  0,  0,  0, 53,  0,  0,  0],\n",
       "       [ 0,  0,  0,  0,  0,  0,  0, 54,  0,  1],\n",
       "       [ 0,  1,  0,  0,  0,  0,  0,  0, 41,  1],\n",
       "       [ 0,  0,  0,  2,  1,  0,  0,  0,  0, 56]])"
      ]
     },
     "execution_count": 65,
     "metadata": {},
     "output_type": "execute_result"
    }
   ],
   "source": [
    "knn_conf_mx = confusion_matrix(y_test, knn_preds)\n",
    "knn_conf_mx"
   ]
  },
  {
   "cell_type": "code",
   "execution_count": 66,
   "metadata": {},
   "outputs": [],
   "source": [
    "knn_best = KNeighborsClassifier(algorithm='ball_tree', n_neighbors=1, weights='uniform')"
   ]
  },
  {
   "cell_type": "code",
   "execution_count": 67,
   "metadata": {},
   "outputs": [
    {
     "data": {
      "text/plain": [
       "KNeighborsClassifier(algorithm='ball_tree', leaf_size=30, metric='minkowski',\n",
       "           metric_params=None, n_jobs=None, n_neighbors=1, p=2,\n",
       "           weights='uniform')"
      ]
     },
     "execution_count": 67,
     "metadata": {},
     "output_type": "execute_result"
    }
   ],
   "source": [
    "knn_best.fit(X_test, y_test)"
   ]
  },
  {
   "cell_type": "code",
   "execution_count": 68,
   "metadata": {},
   "outputs": [],
   "source": [
    "knn_best_preds = knn_best.predict(X_test)"
   ]
  },
  {
   "cell_type": "code",
   "execution_count": 69,
   "metadata": {},
   "outputs": [
    {
     "data": {
      "image/png": "[encoded data removed]",
      "text/plain": [
       "<Figure size 288x288 with 1 Axes>"
      ]
     },
     "metadata": {},
     "output_type": "display_data"
    }
   ],
   "source": [
    "# The first rows normalize for the fact that there may be different counts in each category that we're predicting.\n",
    "row_sums = knn_conf_mx.sum(axis=1, keepdims=True)\n",
    "norm_knn_conf_mx = knn_conf_mx / row_sums\n",
    "\n",
    "# We fill the diagonals with zero, since we're more interested in what the model got wrong. \n",
    "np.fill_diagonal(norm_knn_conf_mx, 0)\n",
    "plt.matshow(norm_knn_conf_mx, cmap=plt.cm.gray)\n",
    "plt.xticks(np.arange(0, 10, step=1))\n",
    "plt.yticks(np.arange(0, 10, step=1))\n",
    "plt.show()"
   ]
  },
  {
   "cell_type": "markdown",
   "metadata": {},
   "source": [
    "# Random Forest"
   ]
  },
  {
   "cell_type": "markdown",
   "metadata": {},
   "source": [
    "Next, we apply Random Forest. We will just try a basic model to see how it compares to our basic SVC."
   ]
  },
  {
   "cell_type": "code",
   "execution_count": 70,
   "metadata": {},
   "outputs": [],
   "source": [
    "from sklearn.ensemble import RandomForestClassifier"
   ]
  },
  {
   "cell_type": "code",
   "execution_count": 71,
   "metadata": {},
   "outputs": [],
   "source": [
    "rfc = RandomForestClassifier(n_estimators=100, random_state=42)"
   ]
  },
  {
   "cell_type": "code",
   "execution_count": 72,
   "metadata": {},
   "outputs": [],
   "source": [
    "rfc.fit(X_train,y_train)\n",
    "rfc_preds = rfc.predict(X_test)"
   ]
  },
  {
   "cell_type": "code",
   "execution_count": 73,
   "metadata": {},
   "outputs": [
    {
     "data": {
      "text/plain": [
       "array([[52,  0,  0,  0,  1,  0,  0,  0,  0,  0],\n",
       "       [ 0, 50,  0,  0,  0,  0,  0,  0,  0,  0],\n",
       "       [ 0,  0, 47,  0,  0,  0,  0,  0,  0,  0],\n",
       "       [ 0,  0,  0, 52,  0,  0,  0,  0,  2,  0],\n",
       "       [ 0,  0,  0,  0, 60,  0,  0,  0,  0,  0],\n",
       "       [ 0,  0,  0,  0,  1, 63,  1,  0,  0,  1],\n",
       "       [ 0,  0,  0,  0,  0,  1, 52,  0,  0,  0],\n",
       "       [ 0,  0,  0,  0,  0,  0,  0, 54,  0,  1],\n",
       "       [ 0,  2,  0,  0,  0,  0,  0,  0, 41,  0],\n",
       "       [ 0,  0,  0,  1,  0,  1,  0,  1,  0, 56]])"
      ]
     },
     "execution_count": 73,
     "metadata": {},
     "output_type": "execute_result"
    }
   ],
   "source": [
    "rfc_conf_mx = confusion_matrix(y_test, rfc_preds)\n",
    "rfc_conf_mx"
   ]
  },
  {
   "cell_type": "code",
   "execution_count": 74,
   "metadata": {},
   "outputs": [
    {
     "data": {
      "text/plain": [
       "0.975925925925926"
      ]
     },
     "execution_count": 74,
     "metadata": {},
     "output_type": "execute_result"
    }
   ],
   "source": [
    "rf_as = accuracy_score(y_test, rfc_preds)\n",
    "rf_as"
   ]
  },
  {
   "cell_type": "markdown",
   "metadata": {},
   "source": [
    "While the RF is not as accurate as the best SVC model, it is much more accurate than the default SVC model. We are sure that we could further improve this model, but that's for the next assignment ;)"
   ]
  },
  {
   "cell_type": "markdown",
   "metadata": {},
   "source": [
    "# Conclusion:"
   ]
  },
  {
   "cell_type": "code",
   "execution_count": 75,
   "metadata": {},
   "outputs": [],
   "source": [
    "as_list = [\"SVC OVO\", \"Random Forest\", \"KNN\", \"SVC OVR\"]"
   ]
  },
  {
   "cell_type": "code",
   "execution_count": 76,
   "metadata": {
    "scrolled": false
   },
   "outputs": [
    {
     "data": {
      "text/html": [
       "<div>\n",
       "<style scoped>\n",
       "    .dataframe tbody tr th:only-of-type {\n",
       "        vertical-align: middle;\n",
       "    }\n",
       "\n",
       "    .dataframe tbody tr th {\n",
       "        vertical-align: top;\n",
       "    }\n",
       "\n",
       "    .dataframe thead th {\n",
       "        text-align: right;\n",
       "    }\n",
       "</style>\n",
       "<table border=\"1\" class=\"dataframe\">\n",
       "  <thead>\n",
       "    <tr style=\"text-align: right;\">\n",
       "      <th></th>\n",
       "      <th>Score</th>\n",
       "    </tr>\n",
       "  </thead>\n",
       "  <tbody>\n",
       "    <tr>\n",
       "      <th>SVC OVO</th>\n",
       "      <td>0.989658</td>\n",
       "    </tr>\n",
       "    <tr>\n",
       "      <th>Random Forest</th>\n",
       "      <td>0.975926</td>\n",
       "    </tr>\n",
       "    <tr>\n",
       "      <th>KNN</th>\n",
       "      <td>0.984885</td>\n",
       "    </tr>\n",
       "    <tr>\n",
       "      <th>SVC OVR</th>\n",
       "      <td>0.788889</td>\n",
       "    </tr>\n",
       "  </tbody>\n",
       "</table>\n",
       "</div>"
      ],
      "text/plain": [
       "                  Score\n",
       "SVC OVO        0.989658\n",
       "Random Forest  0.975926\n",
       "KNN            0.984885\n",
       "SVC OVR        0.788889"
      ]
     },
     "execution_count": 76,
     "metadata": {},
     "output_type": "execute_result"
    }
   ],
   "source": [
    "final_as = pd.DataFrame([svc_as, rf_as, knn_as, svc_ovr_as], as_list, columns = [\"Score\"])\n",
    "final_as"
   ]
  },
  {
   "cell_type": "code",
   "execution_count": 79,
   "metadata": {},
   "outputs": [
    {
     "data": {
      "image/png": "[encoded data removed]",
      "text/plain": [
       "<Figure size 432x288 with 1 Axes>"
      ]
     },
     "metadata": {},
     "output_type": "display_data"
    }
   ],
   "source": [
    "plt.scatter(y = final_as.Score, x = final_as.index)\n",
    "plt.xticks(np.arange(4));"
   ]
  },
  {
   "cell_type": "markdown",
   "metadata": {},
   "source": [
    "### To conclude, the SVC with the highest accuracy score is the one with the rbf kernel, a C value of 10.00\tand a gamma of 0.001. \n",
    "### On average, the highest result was achieved when choosing the poly kernel. The rbf is on average one of the worser kernels. But through a grid search the best parameters were found. With the right combination the rbf kernel outperforms the others.\n",
    "### Choosing the One vs Rest approach over the One vs One approach does not increase in the accuracy.\n",
    "### Trying other models, it can be concluded that the SVC is the best approach. But the K-Nearest-Neighbor model yields a similarly high score. The Random Forest approach is the worst out of the three.\n",
    "### The highest accuracy score achieved is ~0.989658 with the above parameters.\n",
    "### Thanks for reading."
   ]
  },
  {
   "cell_type": "code",
   "execution_count": null,
   "metadata": {},
   "outputs": [],
   "source": []
  }
 ],
 "metadata": {
  "kernelspec": {
   "display_name": "Python 3",
   "language": "python",
   "name": "python3"
  },
  "language_info": {
   "codemirror_mode": {
    "name": "ipython",
    "version": 3
   },
   "file_extension": ".py",
   "mimetype": "text/x-python",
   "name": "python",
   "nbconvert_exporter": "python",
   "pygments_lexer": "ipython3",
   "version": "3.6.8"
  }
 },
 "nbformat": 4,
 "nbformat_minor": 2
}
